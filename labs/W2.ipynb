{
 "cells": [
  {
   "cell_type": "markdown",
   "metadata": {},
   "source": [
    "# W2: NumPy, pandas, xarray\n",
    "\n",
    "- Contributer: Dr. Zhonghua Zheng, Yuan Sun\n",
    "- Course Unit: Earth and Environmental Data Science (EART60702)\n",
    "- Last modified date: 4 February, 2024\n",
    "\n",
    "## Intended Learning Outcomes (ILOs)\n",
    "- NumPy and Pandas: understand and apply NumPy for numerical computations, leveraging vectorization and broadcasting, along with pandas for handling and analyzing data.\n",
    "- Time Series Analysis and Visualization: employ pandas for time series data analysis using datetime functionalities and visualize the results with pandas' built-in plotting tools.\n",
    "- xarray: conduct data operations on multidimensional datasets using Xarray, integrating it seamlessly with NumPy and pandas workflows."
   ]
  },
  {
   "cell_type": "markdown",
   "metadata": {},
   "source": [
    "## 1. NumPy and pandas (20 mins)\n",
    "**NumPy:**\n",
    "- NumPy (Numerical Python) is the fundamental package for scientific computing in Python: https://numpy.org/doc/stable/.\n",
    "- NumPy is an open source Python library that’s used in almost every field of science and engineering. It’s the universal standard for working with numerical data in Python, and it’s at the core of the scientific Python and PyData ecosystems: https://numpy.org/doc/stable/user/absolute_beginners.html.\n",
    "- NumPy can be used to perform a wide variety of mathematical operations on arrays.\n",
    "\n",
    "**pandas:**\n",
    "- pandas is a Python package providing fast, flexible, and expressive data structures designed to make working with \"relational\" or \"labeled\" data both easy and intuitive: https://pandas.pydata.org/docs/getting_started/overview.html\n",
    "- When working with tabular data, such as data stored in spreadsheets or databases, pandas is the right tool for you. pandas will help you to explore, clean, and process your data. In pandas, a data table is called a DataFrame.\n",
    "- The two primary data structures of pandas, Series (1-dimensional) and DataFrame (2-dimensional), handle the vast majority of typical use cases in finance, statistics, social science, and many areas of engineering."
   ]
  },
  {
   "cell_type": "code",
   "execution_count": null,
   "metadata": {},
   "outputs": [],
   "source": [
    "# import package\n",
    "import numpy as np\n",
    "import pandas as pd\n",
    "print(np.__version__)\n",
    "print(pd.__version__)"
   ]
  },
  {
   "cell_type": "markdown",
   "metadata": {},
   "source": [
    "Q1: how create an arithmetic array using np.arrange()"
   ]
  },
  {
   "cell_type": "markdown",
   "metadata": {},
   "source": [
    "### 1.1 reshaping, indexing, and slicing"
   ]
  },
  {
   "cell_type": "code",
   "execution_count": null,
   "metadata": {},
   "outputs": [],
   "source": [
    "arr = np.arange(24)\n",
    "print(arr.shape)\n",
    "arr"
   ]
  },
  {
   "cell_type": "code",
   "execution_count": null,
   "metadata": {},
   "outputs": [],
   "source": [
    "# reshape\n",
    "arr = arr.reshape(6,4)\n",
    "print(arr.shape)\n",
    "arr"
   ]
  },
  {
   "cell_type": "code",
   "execution_count": null,
   "metadata": {},
   "outputs": [],
   "source": [
    "sliced_arr0 = arr[1,1] \n",
    "sliced_arr0"
   ]
  },
  {
   "cell_type": "code",
   "execution_count": null,
   "metadata": {},
   "outputs": [],
   "source": [
    "sliced_arr0 = len(arr[arr>5])\n",
    "sliced_arr0"
   ]
  },
  {
   "cell_type": "code",
   "execution_count": null,
   "metadata": {},
   "outputs": [],
   "source": [
    "sliced_arr0 = arr[1:] # Rows 1 to the end\n",
    "sliced_arr0"
   ]
  },
  {
   "cell_type": "code",
   "execution_count": null,
   "metadata": {},
   "outputs": [],
   "source": [
    "sliced_arr1 = arr[1:4] # Rows 1 to 3\n",
    "sliced_arr1"
   ]
  },
  {
   "cell_type": "code",
   "execution_count": null,
   "metadata": {},
   "outputs": [],
   "source": [
    "sliced_arr1_1 = arr[1:4, :] # Rows 1 to 3, All columns\n",
    "sliced_arr1_1"
   ]
  },
  {
   "cell_type": "code",
   "execution_count": null,
   "metadata": {},
   "outputs": [],
   "source": [
    "sliced_arr2 = arr[1:4,2:4] # Rows 1 to 3, Columns 2 to 3\n",
    "sliced_arr2"
   ]
  },
  {
   "cell_type": "code",
   "execution_count": null,
   "metadata": {},
   "outputs": [],
   "source": [
    "sliced_arr3 = arr[1:4, 2] # Rows 1 to 3, Columns 2\n",
    "sliced_arr3"
   ]
  },
  {
   "cell_type": "code",
   "execution_count": null,
   "metadata": {},
   "outputs": [],
   "source": [
    "sliced_arr4 = arr[1:4:2] # Rows 1 and Rows 3\n",
    "sliced_arr4"
   ]
  },
  {
   "cell_type": "markdown",
   "metadata": {},
   "source": [
    "### 1.2 find the indices (row and column)"
   ]
  },
  {
   "cell_type": "code",
   "execution_count": null,
   "metadata": {},
   "outputs": [],
   "source": [
    "arr"
   ]
  },
  {
   "cell_type": "code",
   "execution_count": null,
   "metadata": {},
   "outputs": [],
   "source": [
    "# find a certain value\n",
    "value_to_find = 15\n",
    "(row_indices, col_indices) = np.where(arr == value_to_find)\n",
    "print(row_indices, col_indices)"
   ]
  },
  {
   "cell_type": "markdown",
   "metadata": {},
   "source": [
    "How to find the indices of the maximal value?"
   ]
  },
  {
   "cell_type": "markdown",
   "metadata": {},
   "source": [
    "### 1.3 vectorization"
   ]
  },
  {
   "cell_type": "code",
   "execution_count": null,
   "metadata": {},
   "outputs": [],
   "source": [
    "arr = np.random.rand(1000000)"
   ]
  },
  {
   "cell_type": "code",
   "execution_count": null,
   "metadata": {},
   "outputs": [],
   "source": [
    "%%time\n",
    "squares_loop = [x**2 for x in arr]"
   ]
  },
  {
   "cell_type": "code",
   "execution_count": null,
   "metadata": {},
   "outputs": [],
   "source": [
    "%%time \n",
    "squares_vectorized = arr**2"
   ]
  },
  {
   "cell_type": "markdown",
   "metadata": {},
   "source": [
    "### 1.4 broadcasting"
   ]
  },
  {
   "cell_type": "code",
   "execution_count": null,
   "metadata": {},
   "outputs": [],
   "source": [
    "a = np.random.rand(100000000)\n",
    "b1 = 5\n",
    "b2 = np.full(100000000, 5)\n",
    "b2"
   ]
  },
  {
   "cell_type": "code",
   "execution_count": null,
   "metadata": {},
   "outputs": [],
   "source": [
    "%%time\n",
    "c1 = a*b1\n",
    "c1"
   ]
  },
  {
   "cell_type": "code",
   "execution_count": null,
   "metadata": {
    "scrolled": true
   },
   "outputs": [],
   "source": [
    "%%time\n",
    "c2 = a*b2\n",
    "c2"
   ]
  },
  {
   "cell_type": "markdown",
   "metadata": {},
   "source": [
    "### 1.5 create series and dataframe"
   ]
  },
  {
   "cell_type": "code",
   "execution_count": null,
   "metadata": {},
   "outputs": [],
   "source": [
    "# create a date as a series\n",
    "dates = pd.date_range('20240208', periods = 6)\n",
    "dates"
   ]
  },
  {
   "cell_type": "code",
   "execution_count": null,
   "metadata": {},
   "outputs": [],
   "source": [
    "# create a dataframe with series\n",
    "df = pd.DataFrame(np.random.randn(6,4), \n",
    "                  index = dates, \n",
    "                  columns=[\"a\", \"b\", \"c\", \"d\"])\n",
    "df"
   ]
  },
  {
   "cell_type": "code",
   "execution_count": null,
   "metadata": {},
   "outputs": [],
   "source": [
    "# show the index of a dataframe\n",
    "df.index"
   ]
  },
  {
   "cell_type": "code",
   "execution_count": null,
   "metadata": {},
   "outputs": [],
   "source": [
    "# quickly describe the dataframe\n",
    "df.describe()"
   ]
  },
  {
   "cell_type": "code",
   "execution_count": null,
   "metadata": {},
   "outputs": [],
   "source": [
    "# transposition\n",
    "df.T"
   ]
  },
  {
   "cell_type": "markdown",
   "metadata": {},
   "source": [
    "### 1.6 questions\n",
    "\n",
    "Q1: How to convert 1-D array into 2-D array?\n",
    "- https://numpy.org/doc/stable/user/absolute_beginners.html\n",
    "\n",
    "Q2: How to calculate the mean square error?\n",
    "- Mean squere error is an important metric in regression analysis.\n",
    "```\n",
    "y_pred = np.array([1.0, 2.0, 3.0, 4.0])\n",
    "y_true = np.array([1.1, 1.9, 3.1, 3.9])\n",
    "```\n",
    "- https://numpy.org/doc/stable/user/absolute_beginners.html\n",
    "\n",
    "\n",
    "Q3: How select the \"a\" column for the date \"2024-02-08\" in `df`?\n",
    "\n",
    "Q4: How to get the positive elements from `df`?"
   ]
  },
  {
   "cell_type": "markdown",
   "metadata": {},
   "source": [
    "## 2. Time Series Analysis and Visualization (15 mins)"
   ]
  },
  {
   "cell_type": "markdown",
   "metadata": {},
   "source": [
    "### 2.1 basic datetimes"
   ]
  },
  {
   "cell_type": "code",
   "execution_count": null,
   "metadata": {},
   "outputs": [],
   "source": [
    "np.array(['2024-02-08', '2024-02-09', '2024-02-10'], dtype='datetime64')"
   ]
  },
  {
   "cell_type": "markdown",
   "metadata": {},
   "source": [
    "### 2.2 parsing time series information from various sources "
   ]
  },
  {
   "cell_type": "code",
   "execution_count": null,
   "metadata": {},
   "outputs": [],
   "source": [
    "import datetime\n",
    "dti = pd.to_datetime([\"02/01/2024\", \n",
    "                      np.datetime64(\"2024-02-02\"), \n",
    "                      datetime.datetime(2024, 2, 3)])\n",
    "dti"
   ]
  },
  {
   "cell_type": "code",
   "execution_count": null,
   "metadata": {},
   "outputs": [],
   "source": [
    "ts = pd.Series(np.random.randn(29), index=pd.date_range(\"2024-02-01\", \"2024-02-29\"))"
   ]
  },
  {
   "cell_type": "markdown",
   "metadata": {},
   "source": [
    "### 2.3 questions\n",
    "Q1: please create a NumPy array that include all the dates for Feb 2024\n",
    "- https://numpy.org/doc/stable/reference/arrays.datetime.html\n",
    "\n",
    "Q2: please create a pandas Series that include all the dates for Feb 2024\n",
    "- https://pandas.pydata.org/docs/user_guide/timeseries.html\n",
    "\n",
    "Q3: please use `np.random.randn` to create a pandas Series (Y axis) and the results from Q2 as the index (X axis), and produce a line plot and a scatter plot\n",
    "- https://pandas.pydata.org/docs/user_guide/visualization.html"
   ]
  },
  {
   "cell_type": "markdown",
   "metadata": {},
   "source": [
    "## 3. xarray (15 mins)\n",
    "- xarray introduces labels in the form of dimensions, coordinates and attributes on top of raw NumPy-like multidimensional arrays, which allows for a more intuitive, more concise, and less error-prone developer experience: https://docs.xarray.dev/en/stable/index.html\n",
    "- Compared with Numpy-like array, xarray introduces labels in the form of dimensions."
   ]
  },
  {
   "cell_type": "code",
   "execution_count": null,
   "metadata": {},
   "outputs": [],
   "source": [
    "import xarray as xr\n",
    "xr.__version__"
   ]
  },
  {
   "cell_type": "markdown",
   "metadata": {},
   "source": [
    "### 3.1 create a DataArray \n",
    "- data, dimensions(optional), coordinates(optional)"
   ]
  },
  {
   "cell_type": "code",
   "execution_count": null,
   "metadata": {},
   "outputs": [],
   "source": [
    "# create a xarry\n",
    "data = np.random.randn(3,4,3) # dreate data\n",
    "lat = [-20, -10, 10, 20]\n",
    "lon = [10, 20, 30]\n",
    "time = pd.date_range(\"2023-01-01\", periods=3)\n",
    "array = xr.DataArray(data, coords = [time, lat, lon], \n",
    "                     dims=['time', 'lat', 'lon'], \n",
    "                     name = \"foo\") # 3D array ('time', 'lat', and 'lon' are the dimension names)\n",
    "array"
   ]
  },
  {
   "cell_type": "markdown",
   "metadata": {},
   "source": [
    "### 3.2 indxing and selecting data"
   ]
  },
  {
   "cell_type": "code",
   "execution_count": null,
   "metadata": {},
   "outputs": [],
   "source": [
    "array[2:]"
   ]
  },
  {
   "cell_type": "code",
   "execution_count": null,
   "metadata": {},
   "outputs": [],
   "source": [
    "array.sel(lon=10)"
   ]
  },
  {
   "cell_type": "markdown",
   "metadata": {},
   "source": [
    "### 3.3 deal with NetCDF"
   ]
  },
  {
   "cell_type": "code",
   "execution_count": null,
   "metadata": {},
   "outputs": [],
   "source": [
    "# Export a netcdf file\n",
    "array.to_netcdf('output.nc')"
   ]
  },
  {
   "cell_type": "code",
   "execution_count": null,
   "metadata": {},
   "outputs": [],
   "source": [
    "# read in a netcdf file\n",
    "ds=xr.open_dataset('output.nc')\n",
    "ds"
   ]
  },
  {
   "cell_type": "markdown",
   "metadata": {},
   "source": [
    "### 3.4 check NetCDF basic information"
   ]
  },
  {
   "cell_type": "code",
   "execution_count": null,
   "metadata": {},
   "outputs": [],
   "source": [
    "ds.dims"
   ]
  },
  {
   "cell_type": "code",
   "execution_count": null,
   "metadata": {},
   "outputs": [],
   "source": [
    "ds.attrs"
   ]
  },
  {
   "cell_type": "code",
   "execution_count": null,
   "metadata": {},
   "outputs": [],
   "source": [
    "ds.coords"
   ]
  },
  {
   "cell_type": "code",
   "execution_count": null,
   "metadata": {},
   "outputs": [],
   "source": [
    "ds.data_vars"
   ]
  },
  {
   "cell_type": "markdown",
   "metadata": {},
   "source": [
    "### 3.5 questions\n",
    "Q1: please provide a figure of the `foo`, where X-axis is `lon`, Y-axis is `lat`, and the value are the mean value\n",
    "- https://docs.xarray.dev/en/stable/generated/xarray.DataArray.mean.html\n",
    "\n",
    "Q2: please provide a figure of the `foo`, where X-axis is the time, Y-axis is the mean value\n",
    "- https://docs.xarray.dev/en/stable/generated/xarray.DataArray.mean.html"
   ]
  },
  {
   "cell_type": "markdown",
   "metadata": {},
   "source": [
    "## Project 1"
   ]
  },
  {
   "cell_type": "markdown",
   "metadata": {},
   "source": [
    "Please fork the repo (https://github.com/m-edal/Earth-Env-DS-MSc-Course/tree/main), and add your project description to the `README.md` file"
   ]
  }
 ],
 "metadata": {
  "kernelspec": {
   "display_name": "Python 3 (ipykernel)",
   "language": "python",
   "name": "python3"
  },
  "language_info": {
   "codemirror_mode": {
    "name": "ipython",
    "version": 3
   },
   "file_extension": ".py",
   "mimetype": "text/x-python",
   "name": "python",
   "nbconvert_exporter": "python",
   "pygments_lexer": "ipython3",
   "version": "3.8.13"
  }
 },
 "nbformat": 4,
 "nbformat_minor": 2
}
