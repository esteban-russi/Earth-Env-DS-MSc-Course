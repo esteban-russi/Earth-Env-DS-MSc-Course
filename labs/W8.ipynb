{
 "cells": [
  {
   "cell_type": "markdown",
   "metadata": {},
   "source": [
    "# W8: Advanced Data Visualization\n",
    "- Contributer: Dr. Zhonghua Zheng, Yuan Sun\n",
    "- Course Unit: Earth and Environmental Data Science (EART60702)\n",
    "- Last modified date: 07 April, 2024"
   ]
  },
  {
   "cell_type": "markdown",
   "metadata": {},
   "source": [
    "## Intended Learning Outcomes (ILOs)\n",
    "- Data visualization with Cartopy: develop advanced skills in visualizing geospatial data using specialized tools such as Cartopy, and learn how to create interactive and informative maps that effectively communicate complex spatial patterns and relationships.\n",
    "- Geospatial visualization: understand cartographic principles and techniques, including map projection, coordinate systems, symbolization, and thematic mapping."
   ]
  },
  {
   "cell_type": "markdown",
   "metadata": {},
   "source": [
    "## 1. Cartopy\n",
    "- Cartopy is a Python package designed for geospatial data processing in order to produce maps and other geospatial data analyses. Cartopy document: https://scitools.org.uk/cartopy/docs/latest/getting_started/index.html.\n",
    "- Key features of cartopy are its object oriented projection definitions, and its ability to transform points, lines, vectors, polygons and images between those projections.\n",
    "- Cartopy has exposed an interface to enable easy map creation using matplotlib.\n",
    "- Cartopy Installation: https://scitools.org.uk/cartopy/docs/latest/installing.html"
   ]
  },
  {
   "cell_type": "code",
   "execution_count": null,
   "metadata": {},
   "outputs": [],
   "source": [
    "import cartopy.crs as ccrs # import projections\n",
    "import cartopy.feature as cf # import features\n",
    "import matplotlib.pyplot as plt\n",
    "import xarray as xr\n",
    "import numpy as np"
   ]
  },
  {
   "cell_type": "markdown",
   "metadata": {},
   "source": [
    "### 1.1 Basemap and mapping (40 mins)\n",
    "- visualize `./data/W8.nc/`: https://github.com/m-edal/Earth-Env-DS-MSc-Course/blob/main/labs/data/W8.nc\n",
    "\n",
    "The original data comes from https://figshare.com/collections/A_global_dataset_of_air_temperature_derived_from_satellite_remote_sensing_and_weather_stations/4081802\n",
    "```Python\n",
    "raw_data = xr.open_dataset('Tair_SG_2005.nc')\n",
    "raw_data_1yr = raw_data.sel('time' = '1970-01-01 00:00:00')\n",
    "raw_data_1yr.to_netcdf('W8.nc')\n",
    "```"
   ]
  },
  {
   "cell_type": "code",
   "execution_count": null,
   "metadata": {},
   "outputs": [],
   "source": [
    "# Creating a basic map is as simple as telling Matplotlib to use a specific map projection, and then adding some coastlines to the axes\n",
    "ax = plt.axes(projection=ccrs.PlateCarree()) # specify projection\n",
    "ax.coastlines() # add coastlines\n",
    "ax.stock_img() # add an underlay image to the map\n",
    "lon_min = -180\n",
    "lon_max = 180\n",
    "lat_min = -90\n",
    "lat_max = 90\n",
    "ax.set_extent([lon_min, lon_max, lat_min, lat_max], crs=ccrs.PlateCarree())\n",
    "ax.get_extent() # Get the extent (x0, x1, y0, y1) of the map in the given coordinate system\n",
    "# ax.set_xticks(range(lon_min, lon_max + 1, 90)) # add xticks\n",
    "ax.set_xticks([-180, -90, 0, 90, 180], crs=ccrs.PlateCarree()) \n",
    "ax.set_yticks([-90, -45, 0, 45, 90], crs=ccrs.PlateCarree())\n",
    "\n",
    "plt.show()"
   ]
  },
  {
   "cell_type": "code",
   "execution_count": null,
   "metadata": {},
   "outputs": [],
   "source": [
    "labelcolor = '#05101f'\n",
    "labelfont = 8\n",
    "ax2 = plt.axes(projection=ccrs.Mollweide()) \n",
    "ax2.add_feature(cf.LAND)\n",
    "ax2.add_feature(cf.RIVERS)\n",
    "ax2.add_feature(cf.LAKES)\n",
    "ax2.coastlines(edgecolor=labelcolor, alpha = 0.2)\n",
    "ax2.add_feature(cf.BORDERS, edgecolor=labelcolor, alpha = 0.2)\n",
    "grid = ax2.gridlines(draw_labels=True, x_inline=False, y_inline=False, linestyle='--')\n",
    "grid.xlabel_style = {'color': labelcolor, 'fontsize': labelfont}\n",
    "grid.ylabel_style = {'color': labelcolor, 'fontsize': labelfont}\n",
    "\n",
    "plt.show()"
   ]
  },
  {
   "cell_type": "code",
   "execution_count": null,
   "metadata": {},
   "outputs": [],
   "source": [
    "ds = xr.open_dataset('./data/W8.nc') # global data\n",
    "ds"
   ]
  },
  {
   "cell_type": "code",
   "execution_count": null,
   "metadata": {},
   "outputs": [],
   "source": [
    "ax3 = plt.axes(projection=ccrs.Mollweide()) \n",
    "ax3.coastlines(edgecolor=labelcolor, alpha = 0.2)\n",
    "ax3.add_feature(cf.BORDERS, edgecolor=labelcolor, alpha = 0.2)\n",
    "grid = ax3.gridlines(draw_labels=True, x_inline=False, y_inline=False, linestyle='--')\n",
    "grid.xlabel_style = {'color': labelcolor, 'fontsize': labelfont}\n",
    "grid.ylabel_style = {'color': labelcolor, 'fontsize': labelfont}\n",
    "mesh = ax3.pcolormesh(ds.lon, ds.lat, ds.Tair, transform=ccrs.PlateCarree(), cmap='viridis')\n",
    "\n",
    "plt.show()"
   ]
  },
  {
   "cell_type": "markdown",
   "metadata": {},
   "source": [
    "**Q1: add a data mask to the grid cells where temperature is higher than 295K.**"
   ]
  },
  {
   "cell_type": "code",
   "execution_count": null,
   "metadata": {},
   "outputs": [],
   "source": [
    "ax3 = plt.axes(projection=ccrs.Mollweide()) \n",
    "ax3.coastlines(edgecolor=labelcolor, alpha = 0.2)\n",
    "ax3.add_feature(cf.BORDERS, edgecolor=labelcolor, alpha = 0.2)\n",
    "grid = ax3.gridlines(draw_labels=True, x_inline=False, y_inline=False, linestyle='--')\n",
    "grid.xlabel_style = {'color': labelcolor, 'fontsize': labelfont}\n",
    "grid.ylabel_style = {'color': labelcolor, 'fontsize': labelfont}\n",
    "mesh = ax3.pcolormesh(ds.lon, ds.lat, \n",
    "                      np.ma.masked_where(ds.Tair > 295, ds.Tair), \n",
    "                      transform=ccrs.PlateCarree(), cmap='viridis')\n",
    "\n",
    "plt.show()"
   ]
  },
  {
   "cell_type": "markdown",
   "metadata": {},
   "source": [
    "**Q2: please visualize './data/W6.nc/': `https://github.com/m-edal/Earth-Env-DS-MSc-Course/blob/main/labs/data/W6.nc` through 2 ways: `pcolormesh()` and `contourf()`**\n",
    "- `pcolormesh()`: https://matplotlib.org/stable/api/_as_gen/matplotlib.pyplot.pcolormesh.html\n",
    "- `contourf()`: https://matplotlib.org/stable/api/_as_gen/matplotlib.pyplot.contourf.html"
   ]
  },
  {
   "cell_type": "code",
   "execution_count": null,
   "metadata": {},
   "outputs": [],
   "source": [
    "ds = xr.open_dataset('./data/W6.nc') # regional data\n",
    "ds"
   ]
  },
  {
   "cell_type": "code",
   "execution_count": null,
   "metadata": {},
   "outputs": [],
   "source": [
    "# pcolormesh()\n"
   ]
  },
  {
   "cell_type": "code",
   "execution_count": null,
   "metadata": {},
   "outputs": [],
   "source": [
    "# contourf()\n"
   ]
  },
  {
   "cell_type": "markdown",
   "metadata": {},
   "source": [
    "**Q3: please use the following commands to do the visualization for the UK**\n",
    "```Python\n",
    "states_provinces = cfeature.NaturalEarthFeature(category='cultural',\n",
    "                                                name='admin_1_states_provinces',\n",
    "                                                scale='10m',\n",
    "                                                facecolor='none')\n",
    "```"
   ]
  },
  {
   "cell_type": "code",
   "execution_count": null,
   "metadata": {},
   "outputs": [],
   "source": [
    "import cartopy.feature as cfeature\n",
    "\n",
    "fig = plt.figure(figsize=(8, 5))\n",
    "ax = fig.add_subplot(1, 1, 1, projection=ccrs.PlateCarree())\n",
    "\n",
    "# natural earth\n",
    "states_provinces = cfeature.NaturalEarthFeature(category='cultural',\n",
    "                                                name='admin_1_states_provinces',\n",
    "                                                scale='10m',\n",
    "                                                facecolor='none')\n",
    "# please add the extent for the UK\n",
    "ax.set_extent([], ccrs.PlateCarree())\n",
    "\n",
    "ax.add_feature(cfeature.LAND)\n",
    "ax.add_feature(cfeature.COASTLINE)\n",
    "\n",
    "# please add a line below\n",
    "\n",
    "plt.show()"
   ]
  },
  {
   "cell_type": "markdown",
   "metadata": {},
   "source": [
    "### 1.2 Open Street Map visualization using Cartopy (20 mins)"
   ]
  },
  {
   "cell_type": "code",
   "execution_count": null,
   "metadata": {},
   "outputs": [],
   "source": [
    "import cartopy.io.img_tiles as cimgt # 'img_tiles' containes functions handlling image tiles for map plotting\n",
    "\n",
    "request = cimgt.OSM()\n",
    "extent = [-2.275, -2.2186, 53.47, 53.50] # set extend of the figure [lon_min, lon_max, lat_min, lat_max]\n",
    "\n",
    "ax = plt.axes(projection=request.crs)\n",
    "ax.set_extent(extent)\n",
    "\n",
    "ax.add_image(request, 13) # 13 is the zoom level\n",
    "plt.show()"
   ]
  },
  {
   "cell_type": "code",
   "execution_count": null,
   "metadata": {},
   "outputs": [],
   "source": [
    "# mapping by a center point (latitude, longitude)\n",
    "center_lat = 53.4668\n",
    "center_lon = -2.2339\n",
    "\n",
    "# Width and height of the map in degrees\n",
    "width_deg = 0.0025\n",
    "height_deg = 0.001\n",
    "\n",
    "# Calculate extent based on center point, width, and height\n",
    "min_lon = center_lon - (width_deg / 2)\n",
    "max_lon = center_lon + (width_deg / 2)\n",
    "min_lat = center_lat - (height_deg / 2)\n",
    "max_lat = center_lat + (height_deg / 2)\n",
    "extent = [min_lon, max_lon, min_lat, max_lat]\n",
    "\n",
    "plt.figure(figsize=(8, 6))\n",
    "# Request map tiles\n",
    "req = cimgt.OSM()\n",
    "ax = plt.axes(projection=req.crs)\n",
    "ax.set_extent(extent)\n",
    "ax.add_image(req, 19)  # Adjust zoom level as needed\n",
    "plt.show()\n",
    "\n",
    "# NOTE: zoom specifications should be selected based on extent:\n",
    "# -- 2     = coarse image, select for worldwide or continental scales\n",
    "# -- 4-6   = medium coarseness, select for countries and larger states\n",
    "# -- 6-10  = medium fineness, select for smaller states, regions, and cities\n",
    "# -- 10-12 = fine image, select for city boundaries and zip codes\n",
    "# -- 14+   = extremely fine image, select for roads, blocks, buildings"
   ]
  },
  {
   "cell_type": "markdown",
   "metadata": {},
   "source": [
    "Other practises: \n",
    "- https://www.theurbanist.com.au/2021/03/plotting-openstreetmap-images-with-cartopy/\n",
    "- https://makersportal.com/blog/2020/4/24/geographic-visualizations-in-python-with-cartopy"
   ]
  }
 ],
 "metadata": {
  "kernelspec": {
   "display_name": "Python 3 (ipykernel)",
   "language": "python",
   "name": "python3"
  },
  "language_info": {
   "codemirror_mode": {
    "name": "ipython",
    "version": 3
   },
   "file_extension": ".py",
   "mimetype": "text/x-python",
   "name": "python",
   "nbconvert_exporter": "python",
   "pygments_lexer": "ipython3",
   "version": "3.11.8"
  }
 },
 "nbformat": 4,
 "nbformat_minor": 4
}
