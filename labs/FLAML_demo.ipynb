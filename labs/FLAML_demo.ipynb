{
  "nbformat": 4,
  "nbformat_minor": 0,
  "metadata": {
    "colab": {
      "provenance": []
    },
    "kernelspec": {
      "name": "python3",
      "display_name": "Python 3"
    },
    "language_info": {
      "name": "python"
    }
  },
  "cells": [
    {
      "cell_type": "markdown",
      "source": [
        "## Step 0: Install FLAML"
      ],
      "metadata": {
        "id": "Fu74NfnMbr__"
      }
    },
    {
      "cell_type": "code",
      "execution_count": 1,
      "metadata": {
        "colab": {
          "base_uri": "https://localhost:8080/"
        },
        "id": "xKct9r_bfwnJ",
        "outputId": "0432489f-83ce-4123-ab19-4df5d1c610d5"
      },
      "outputs": [
        {
          "output_type": "stream",
          "name": "stdout",
          "text": [
            "Collecting flaml\n",
            "  Downloading FLAML-2.1.2-py3-none-any.whl (296 kB)\n",
            "\u001b[2K     \u001b[90m━━━━━━━━━━━━━━━━━━━━━━━━━━━━━━━━━━━━━━━━\u001b[0m \u001b[32m296.7/296.7 kB\u001b[0m \u001b[31m1.5 MB/s\u001b[0m eta \u001b[36m0:00:00\u001b[0m\n",
            "\u001b[?25hRequirement already satisfied: NumPy>=1.17 in /usr/local/lib/python3.10/dist-packages (from flaml) (1.25.2)\n",
            "Installing collected packages: flaml\n",
            "Successfully installed flaml-2.1.2\n"
          ]
        }
      ],
      "source": [
        "!pip install flaml\n",
        "from flaml import AutoML"
      ]
    },
    {
      "cell_type": "code",
      "source": [
        "from sklearn.metrics import r2_score\n",
        "from sklearn.model_selection import train_test_split\n",
        "from sklearn.datasets import fetch_california_housing\n",
        "\n",
        "X, y = fetch_california_housing(return_X_y=True)\n",
        "X_train, X_test, y_train, y_test = train_test_split(X, y, test_size=0.2, random_state=42)"
      ],
      "metadata": {
        "id": "PVHp3NQsf4Je"
      },
      "execution_count": 2,
      "outputs": []
    },
    {
      "cell_type": "markdown",
      "source": [
        "## Step 1: FLAML (AutoML)"
      ],
      "metadata": {
        "id": "E-hzmOrLYxFJ"
      }
    },
    {
      "cell_type": "code",
      "source": [
        "# Initialize an AutoML instance\n",
        "automl = AutoML()\n",
        "# Specify automl goal and constraint\n",
        "automl_settings = {\n",
        "    \"time_budget\": 20,  # in seconds\n",
        "    \"metric\": \"r2\",\n",
        "    \"task\": \"regression\"\n",
        "}\n",
        "\n",
        "automl.fit(X_train=X_train, y_train=y_train, **automl_settings)"
      ],
      "metadata": {
        "colab": {
          "base_uri": "https://localhost:8080/"
        },
        "id": "fm9IvoBbSy_5",
        "outputId": "8ea5c031-b5f0-4210-b5be-bd828fa9a08f"
      },
      "execution_count": 3,
      "outputs": [
        {
          "output_type": "stream",
          "name": "stdout",
          "text": [
            "[flaml.automl.logger: 04-21 09:37:07] {1680} INFO - task = regression\n",
            "[flaml.automl.logger: 04-21 09:37:07] {1691} INFO - Evaluation method: holdout\n",
            "[flaml.automl.logger: 04-21 09:37:07] {1789} INFO - Minimizing error metric: 1-r2\n",
            "[flaml.automl.logger: 04-21 09:37:07] {1901} INFO - List of ML learners in AutoML Run: ['lgbm', 'rf', 'xgboost', 'extra_tree', 'xgb_limitdepth']\n",
            "[flaml.automl.logger: 04-21 09:37:07] {2219} INFO - iteration 0, current learner lgbm\n",
            "[flaml.automl.logger: 04-21 09:37:07] {2345} INFO - Estimated sufficient time budget=690s. Estimated necessary time budget=5s.\n",
            "[flaml.automl.logger: 04-21 09:37:07] {2392} INFO -  at 0.1s,\testimator lgbm's best error=0.7234,\tbest estimator lgbm's best error=0.7234\n",
            "[flaml.automl.logger: 04-21 09:37:07] {2219} INFO - iteration 1, current learner lgbm\n",
            "[flaml.automl.logger: 04-21 09:37:07] {2392} INFO -  at 0.1s,\testimator lgbm's best error=0.7234,\tbest estimator lgbm's best error=0.7234\n",
            "[flaml.automl.logger: 04-21 09:37:07] {2219} INFO - iteration 2, current learner lgbm\n",
            "[flaml.automl.logger: 04-21 09:37:07] {2392} INFO -  at 0.2s,\testimator lgbm's best error=0.5133,\tbest estimator lgbm's best error=0.5133\n",
            "[flaml.automl.logger: 04-21 09:37:07] {2219} INFO - iteration 3, current learner lgbm\n",
            "[flaml.automl.logger: 04-21 09:37:07] {2392} INFO -  at 0.2s,\testimator lgbm's best error=0.2551,\tbest estimator lgbm's best error=0.2551\n",
            "[flaml.automl.logger: 04-21 09:37:07] {2219} INFO - iteration 4, current learner lgbm\n",
            "[flaml.automl.logger: 04-21 09:37:07] {2392} INFO -  at 0.3s,\testimator lgbm's best error=0.2551,\tbest estimator lgbm's best error=0.2551\n",
            "[flaml.automl.logger: 04-21 09:37:07] {2219} INFO - iteration 5, current learner lgbm\n",
            "[flaml.automl.logger: 04-21 09:37:07] {2392} INFO -  at 0.3s,\testimator lgbm's best error=0.2469,\tbest estimator lgbm's best error=0.2469\n",
            "[flaml.automl.logger: 04-21 09:37:07] {2219} INFO - iteration 6, current learner lgbm\n",
            "[flaml.automl.logger: 04-21 09:37:07] {2392} INFO -  at 0.4s,\testimator lgbm's best error=0.2469,\tbest estimator lgbm's best error=0.2469\n",
            "[flaml.automl.logger: 04-21 09:37:07] {2219} INFO - iteration 7, current learner lgbm\n",
            "[flaml.automl.logger: 04-21 09:37:07] {2392} INFO -  at 0.4s,\testimator lgbm's best error=0.2469,\tbest estimator lgbm's best error=0.2469\n",
            "[flaml.automl.logger: 04-21 09:37:07] {2219} INFO - iteration 8, current learner lgbm\n",
            "[flaml.automl.logger: 04-21 09:37:07] {2392} INFO -  at 0.5s,\testimator lgbm's best error=0.2082,\tbest estimator lgbm's best error=0.2082\n",
            "[flaml.automl.logger: 04-21 09:37:07] {2219} INFO - iteration 9, current learner xgboost\n",
            "[flaml.automl.logger: 04-21 09:37:07] {2392} INFO -  at 0.6s,\testimator xgboost's best error=0.7205,\tbest estimator lgbm's best error=0.2082\n",
            "[flaml.automl.logger: 04-21 09:37:07] {2219} INFO - iteration 10, current learner lgbm\n",
            "[flaml.automl.logger: 04-21 09:37:07] {2392} INFO -  at 0.6s,\testimator lgbm's best error=0.2082,\tbest estimator lgbm's best error=0.2082\n",
            "[flaml.automl.logger: 04-21 09:37:07] {2219} INFO - iteration 11, current learner xgboost\n",
            "[flaml.automl.logger: 04-21 09:37:07] {2392} INFO -  at 0.7s,\testimator xgboost's best error=0.7205,\tbest estimator lgbm's best error=0.2082\n",
            "[flaml.automl.logger: 04-21 09:37:07] {2219} INFO - iteration 12, current learner lgbm\n",
            "[flaml.automl.logger: 04-21 09:37:08] {2392} INFO -  at 1.0s,\testimator lgbm's best error=0.1515,\tbest estimator lgbm's best error=0.1515\n",
            "[flaml.automl.logger: 04-21 09:37:08] {2219} INFO - iteration 13, current learner extra_tree\n",
            "[flaml.automl.logger: 04-21 09:37:08] {2392} INFO -  at 1.1s,\testimator extra_tree's best error=0.5751,\tbest estimator lgbm's best error=0.1515\n",
            "[flaml.automl.logger: 04-21 09:37:08] {2219} INFO - iteration 14, current learner extra_tree\n",
            "[flaml.automl.logger: 04-21 09:37:08] {2392} INFO -  at 1.2s,\testimator extra_tree's best error=0.3925,\tbest estimator lgbm's best error=0.1515\n",
            "[flaml.automl.logger: 04-21 09:37:08] {2219} INFO - iteration 15, current learner rf\n",
            "[flaml.automl.logger: 04-21 09:37:08] {2392} INFO -  at 1.4s,\testimator rf's best error=0.5011,\tbest estimator lgbm's best error=0.1515\n",
            "[flaml.automl.logger: 04-21 09:37:08] {2219} INFO - iteration 16, current learner rf\n",
            "[flaml.automl.logger: 04-21 09:37:08] {2392} INFO -  at 1.6s,\testimator rf's best error=0.3691,\tbest estimator lgbm's best error=0.1515\n",
            "[flaml.automl.logger: 04-21 09:37:08] {2219} INFO - iteration 17, current learner extra_tree\n",
            "[flaml.automl.logger: 04-21 09:37:08] {2392} INFO -  at 1.6s,\testimator extra_tree's best error=0.3925,\tbest estimator lgbm's best error=0.1515\n",
            "[flaml.automl.logger: 04-21 09:37:08] {2219} INFO - iteration 18, current learner lgbm\n",
            "[flaml.automl.logger: 04-21 09:37:09] {2392} INFO -  at 2.3s,\testimator lgbm's best error=0.1515,\tbest estimator lgbm's best error=0.1515\n",
            "[flaml.automl.logger: 04-21 09:37:09] {2219} INFO - iteration 19, current learner xgboost\n",
            "[flaml.automl.logger: 04-21 09:37:09] {2392} INFO -  at 2.3s,\testimator xgboost's best error=0.5195,\tbest estimator lgbm's best error=0.1515\n",
            "[flaml.automl.logger: 04-21 09:37:09] {2219} INFO - iteration 20, current learner xgboost\n",
            "[flaml.automl.logger: 04-21 09:37:09] {2392} INFO -  at 2.4s,\testimator xgboost's best error=0.3280,\tbest estimator lgbm's best error=0.1515\n",
            "[flaml.automl.logger: 04-21 09:37:09] {2219} INFO - iteration 21, current learner xgboost\n",
            "[flaml.automl.logger: 04-21 09:37:09] {2392} INFO -  at 2.4s,\testimator xgboost's best error=0.3280,\tbest estimator lgbm's best error=0.1515\n",
            "[flaml.automl.logger: 04-21 09:37:09] {2219} INFO - iteration 22, current learner rf\n",
            "[flaml.automl.logger: 04-21 09:37:09] {2392} INFO -  at 2.6s,\testimator rf's best error=0.3691,\tbest estimator lgbm's best error=0.1515\n",
            "[flaml.automl.logger: 04-21 09:37:09] {2219} INFO - iteration 23, current learner rf\n",
            "[flaml.automl.logger: 04-21 09:37:10] {2392} INFO -  at 3.0s,\testimator rf's best error=0.2703,\tbest estimator lgbm's best error=0.1515\n",
            "[flaml.automl.logger: 04-21 09:37:10] {2219} INFO - iteration 24, current learner extra_tree\n",
            "[flaml.automl.logger: 04-21 09:37:10] {2392} INFO -  at 3.1s,\testimator extra_tree's best error=0.3483,\tbest estimator lgbm's best error=0.1515\n",
            "[flaml.automl.logger: 04-21 09:37:10] {2219} INFO - iteration 25, current learner extra_tree\n",
            "[flaml.automl.logger: 04-21 09:37:10] {2392} INFO -  at 3.4s,\testimator extra_tree's best error=0.2798,\tbest estimator lgbm's best error=0.1515\n",
            "[flaml.automl.logger: 04-21 09:37:10] {2219} INFO - iteration 26, current learner xgboost\n",
            "[flaml.automl.logger: 04-21 09:37:10] {2392} INFO -  at 3.5s,\testimator xgboost's best error=0.3280,\tbest estimator lgbm's best error=0.1515\n",
            "[flaml.automl.logger: 04-21 09:37:10] {2219} INFO - iteration 27, current learner xgboost\n",
            "[flaml.automl.logger: 04-21 09:37:10] {2392} INFO -  at 3.6s,\testimator xgboost's best error=0.2458,\tbest estimator lgbm's best error=0.1515\n",
            "[flaml.automl.logger: 04-21 09:37:10] {2219} INFO - iteration 28, current learner extra_tree\n",
            "[flaml.automl.logger: 04-21 09:37:10] {2392} INFO -  at 3.9s,\testimator extra_tree's best error=0.2798,\tbest estimator lgbm's best error=0.1515\n",
            "[flaml.automl.logger: 04-21 09:37:10] {2219} INFO - iteration 29, current learner extra_tree\n",
            "[flaml.automl.logger: 04-21 09:37:11] {2392} INFO -  at 4.1s,\testimator extra_tree's best error=0.2200,\tbest estimator lgbm's best error=0.1515\n",
            "[flaml.automl.logger: 04-21 09:37:11] {2219} INFO - iteration 30, current learner lgbm\n",
            "[flaml.automl.logger: 04-21 09:37:11] {2392} INFO -  at 4.9s,\testimator lgbm's best error=0.1515,\tbest estimator lgbm's best error=0.1515\n",
            "[flaml.automl.logger: 04-21 09:37:11] {2219} INFO - iteration 31, current learner lgbm\n",
            "[flaml.automl.logger: 04-21 09:37:14] {2392} INFO -  at 7.7s,\testimator lgbm's best error=0.1515,\tbest estimator lgbm's best error=0.1515\n",
            "[flaml.automl.logger: 04-21 09:37:14] {2219} INFO - iteration 32, current learner rf\n",
            "[flaml.automl.logger: 04-21 09:37:15] {2392} INFO -  at 8.6s,\testimator rf's best error=0.2236,\tbest estimator lgbm's best error=0.1515\n",
            "[flaml.automl.logger: 04-21 09:37:15] {2219} INFO - iteration 33, current learner extra_tree\n",
            "[flaml.automl.logger: 04-21 09:37:15] {2392} INFO -  at 8.8s,\testimator extra_tree's best error=0.2200,\tbest estimator lgbm's best error=0.1515\n",
            "[flaml.automl.logger: 04-21 09:37:15] {2219} INFO - iteration 34, current learner rf\n",
            "[flaml.automl.logger: 04-21 09:37:16] {2392} INFO -  at 9.7s,\testimator rf's best error=0.2236,\tbest estimator lgbm's best error=0.1515\n",
            "[flaml.automl.logger: 04-21 09:37:16] {2219} INFO - iteration 35, current learner xgboost\n",
            "[flaml.automl.logger: 04-21 09:37:16] {2392} INFO -  at 9.9s,\testimator xgboost's best error=0.2429,\tbest estimator lgbm's best error=0.1515\n",
            "[flaml.automl.logger: 04-21 09:37:16] {2219} INFO - iteration 36, current learner extra_tree\n",
            "[flaml.automl.logger: 04-21 09:37:17] {2392} INFO -  at 10.3s,\testimator extra_tree's best error=0.2116,\tbest estimator lgbm's best error=0.1515\n",
            "[flaml.automl.logger: 04-21 09:37:17] {2219} INFO - iteration 37, current learner rf\n",
            "[flaml.automl.logger: 04-21 09:37:18] {2392} INFO -  at 11.3s,\testimator rf's best error=0.2124,\tbest estimator lgbm's best error=0.1515\n",
            "[flaml.automl.logger: 04-21 09:37:18] {2219} INFO - iteration 38, current learner xgboost\n",
            "[flaml.automl.logger: 04-21 09:37:18] {2392} INFO -  at 11.6s,\testimator xgboost's best error=0.2306,\tbest estimator lgbm's best error=0.1515\n",
            "[flaml.automl.logger: 04-21 09:37:18] {2219} INFO - iteration 39, current learner lgbm\n",
            "[flaml.automl.logger: 04-21 09:37:20] {2392} INFO -  at 13.0s,\testimator lgbm's best error=0.1482,\tbest estimator lgbm's best error=0.1482\n",
            "[flaml.automl.logger: 04-21 09:37:20] {2219} INFO - iteration 40, current learner xgboost\n",
            "[flaml.automl.logger: 04-21 09:37:20] {2392} INFO -  at 13.7s,\testimator xgboost's best error=0.1878,\tbest estimator lgbm's best error=0.1482\n",
            "[flaml.automl.logger: 04-21 09:37:20] {2219} INFO - iteration 41, current learner xgboost\n",
            "[flaml.automl.logger: 04-21 09:37:20] {2392} INFO -  at 13.9s,\testimator xgboost's best error=0.1878,\tbest estimator lgbm's best error=0.1482\n",
            "[flaml.automl.logger: 04-21 09:37:20] {2219} INFO - iteration 42, current learner lgbm\n",
            "[flaml.automl.logger: 04-21 09:37:23] {2392} INFO -  at 16.2s,\testimator lgbm's best error=0.1482,\tbest estimator lgbm's best error=0.1482\n",
            "[flaml.automl.logger: 04-21 09:37:23] {2219} INFO - iteration 43, current learner xgboost\n",
            "[flaml.automl.logger: 04-21 09:37:23] {2392} INFO -  at 16.3s,\testimator xgboost's best error=0.1878,\tbest estimator lgbm's best error=0.1482\n",
            "[flaml.automl.logger: 04-21 09:37:23] {2219} INFO - iteration 44, current learner extra_tree\n",
            "[flaml.automl.logger: 04-21 09:37:23] {2392} INFO -  at 16.6s,\testimator extra_tree's best error=0.2116,\tbest estimator lgbm's best error=0.1482\n",
            "[flaml.automl.logger: 04-21 09:37:23] {2219} INFO - iteration 45, current learner xgboost\n",
            "[flaml.automl.logger: 04-21 09:37:24] {2392} INFO -  at 17.0s,\testimator xgboost's best error=0.1681,\tbest estimator lgbm's best error=0.1482\n",
            "[flaml.automl.logger: 04-21 09:37:24] {2219} INFO - iteration 46, current learner xgboost\n",
            "[flaml.automl.logger: 04-21 09:37:24] {2392} INFO -  at 17.6s,\testimator xgboost's best error=0.1681,\tbest estimator lgbm's best error=0.1482\n",
            "[flaml.automl.logger: 04-21 09:37:24] {2219} INFO - iteration 47, current learner xgboost\n",
            "[flaml.automl.logger: 04-21 09:37:26] {2392} INFO -  at 19.8s,\testimator xgboost's best error=0.1681,\tbest estimator lgbm's best error=0.1482\n",
            "[flaml.automl.logger: 04-21 09:37:26] {2219} INFO - iteration 48, current learner xgb_limitdepth\n",
            "[flaml.automl.logger: 04-21 09:37:27] {2392} INFO -  at 20.0s,\testimator xgb_limitdepth's best error=0.6588,\tbest estimator lgbm's best error=0.1482\n",
            "[flaml.automl.logger: 04-21 09:37:27] {2628} INFO - retrain lgbm for 1.0s\n",
            "[flaml.automl.logger: 04-21 09:37:27] {2631} INFO - retrained model: LGBMRegressor(colsample_bytree=0.5967846088487322,\n",
            "              learning_rate=0.09348689572544734, max_bin=127,\n",
            "              min_child_samples=4, n_estimators=1, n_jobs=-1, num_leaves=69,\n",
            "              reg_alpha=0.006958608037974516, reg_lambda=0.001895876878997586,\n",
            "              verbose=-1)\n",
            "[flaml.automl.logger: 04-21 09:37:28] {1931} INFO - fit succeeded\n",
            "[flaml.automl.logger: 04-21 09:37:28] {1932} INFO - Time taken to find the best model: 12.972278356552124\n"
          ]
        }
      ]
    },
    {
      "cell_type": "code",
      "source": [
        "print(\"best model:\")\n",
        "print(automl.model.estimator)\n",
        "# evaluate the model performance\n",
        "r2_score(y_true = y_test, y_pred = automl.predict(X_test))"
      ],
      "metadata": {
        "colab": {
          "base_uri": "https://localhost:8080/"
        },
        "id": "Cbi0ug2MTTiG",
        "outputId": "f9baa033-14d7-4e99-da2d-c5c1e5c79102"
      },
      "execution_count": 4,
      "outputs": [
        {
          "output_type": "stream",
          "name": "stdout",
          "text": [
            "best model:\n",
            "LGBMRegressor(colsample_bytree=0.5967846088487322,\n",
            "              learning_rate=0.09348689572544734, max_bin=127,\n",
            "              min_child_samples=4, n_estimators=1, n_jobs=-1, num_leaves=69,\n",
            "              reg_alpha=0.006958608037974516, reg_lambda=0.001895876878997586,\n",
            "              verbose=-1)\n"
          ]
        },
        {
          "output_type": "execute_result",
          "data": {
            "text/plain": [
              "0.840920034588206"
            ]
          },
          "metadata": {},
          "execution_count": 4
        }
      ]
    },
    {
      "cell_type": "markdown",
      "source": [
        "## Step 2: Random Forests"
      ],
      "metadata": {
        "id": "TSRtLe6UYtg9"
      }
    },
    {
      "cell_type": "code",
      "source": [
        "from sklearn.ensemble import RandomForestRegressor\n",
        "regr = RandomForestRegressor()\n",
        "regr.fit(X_train, y_train)\n",
        "r2_score(y_true = y_test, y_pred = regr.predict(X_test))"
      ],
      "metadata": {
        "colab": {
          "base_uri": "https://localhost:8080/"
        },
        "id": "mD5uHNejVBvk",
        "outputId": "42196222-e931-45a9-9ffc-103a9d587d72"
      },
      "execution_count": 5,
      "outputs": [
        {
          "output_type": "execute_result",
          "data": {
            "text/plain": [
              "0.8058601527104079"
            ]
          },
          "metadata": {},
          "execution_count": 5
        }
      ]
    },
    {
      "cell_type": "markdown",
      "source": [
        "## Step 3: FLAML for Random Forests"
      ],
      "metadata": {
        "id": "LVQeMX4NtLK-"
      }
    },
    {
      "cell_type": "code",
      "source": [
        "# Initialize an AutoML instance\n",
        "automl = AutoML()\n",
        "# Specify automl goal and constraint\n",
        "automl_settings = {\n",
        "    \"time_budget\": 20,  # in seconds\n",
        "    \"metric\": \"r2\",\n",
        "    \"task\": \"regression\",\n",
        "    \"estimator_list\": [\"rf\"]\n",
        "}\n",
        "\n",
        "automl.fit(X_train=X_train, y_train=y_train, **automl_settings)"
      ],
      "metadata": {
        "colab": {
          "base_uri": "https://localhost:8080/"
        },
        "id": "mi9jTYDStPRW",
        "outputId": "935d3bf2-42a6-465b-9785-ced54a4dfcac"
      },
      "execution_count": 6,
      "outputs": [
        {
          "output_type": "stream",
          "name": "stdout",
          "text": [
            "[flaml.automl.logger: 04-21 09:37:48] {1680} INFO - task = regression\n",
            "[flaml.automl.logger: 04-21 09:37:48] {1691} INFO - Evaluation method: holdout\n",
            "[flaml.automl.logger: 04-21 09:37:48] {1789} INFO - Minimizing error metric: 1-r2\n",
            "[flaml.automl.logger: 04-21 09:37:48] {1901} INFO - List of ML learners in AutoML Run: ['rf']\n",
            "[flaml.automl.logger: 04-21 09:37:48] {2219} INFO - iteration 0, current learner rf\n",
            "[flaml.automl.logger: 04-21 09:37:49] {2345} INFO - Estimated sufficient time budget=1393s. Estimated necessary time budget=1s.\n",
            "[flaml.automl.logger: 04-21 09:37:49] {2392} INFO -  at 0.2s,\testimator rf's best error=0.5011,\tbest estimator rf's best error=0.5011\n",
            "[flaml.automl.logger: 04-21 09:37:49] {2219} INFO - iteration 1, current learner rf\n",
            "[flaml.automl.logger: 04-21 09:37:49] {2392} INFO -  at 0.4s,\testimator rf's best error=0.3691,\tbest estimator rf's best error=0.3691\n",
            "[flaml.automl.logger: 04-21 09:37:49] {2219} INFO - iteration 2, current learner rf\n",
            "[flaml.automl.logger: 04-21 09:37:49] {2392} INFO -  at 0.5s,\testimator rf's best error=0.3691,\tbest estimator rf's best error=0.3691\n",
            "[flaml.automl.logger: 04-21 09:37:49] {2219} INFO - iteration 3, current learner rf\n",
            "[flaml.automl.logger: 04-21 09:37:49] {2392} INFO -  at 1.0s,\testimator rf's best error=0.2703,\tbest estimator rf's best error=0.2703\n",
            "[flaml.automl.logger: 04-21 09:37:49] {2219} INFO - iteration 4, current learner rf\n",
            "[flaml.automl.logger: 04-21 09:37:50] {2392} INFO -  at 1.7s,\testimator rf's best error=0.2236,\tbest estimator rf's best error=0.2236\n",
            "[flaml.automl.logger: 04-21 09:37:50] {2219} INFO - iteration 5, current learner rf\n",
            "[flaml.automl.logger: 04-21 09:37:51] {2392} INFO -  at 2.3s,\testimator rf's best error=0.2236,\tbest estimator rf's best error=0.2236\n",
            "[flaml.automl.logger: 04-21 09:37:51] {2219} INFO - iteration 6, current learner rf\n",
            "[flaml.automl.logger: 04-21 09:37:51] {2392} INFO -  at 3.1s,\testimator rf's best error=0.2124,\tbest estimator rf's best error=0.2124\n",
            "[flaml.automl.logger: 04-21 09:37:51] {2219} INFO - iteration 7, current learner rf\n",
            "[flaml.automl.logger: 04-21 09:37:52] {2392} INFO -  at 3.9s,\testimator rf's best error=0.2124,\tbest estimator rf's best error=0.2124\n",
            "[flaml.automl.logger: 04-21 09:37:52] {2219} INFO - iteration 8, current learner rf\n",
            "[flaml.automl.logger: 04-21 09:37:53] {2392} INFO -  at 4.8s,\testimator rf's best error=0.1802,\tbest estimator rf's best error=0.1802\n",
            "[flaml.automl.logger: 04-21 09:37:53] {2219} INFO - iteration 9, current learner rf\n",
            "[flaml.automl.logger: 04-21 09:37:54] {2392} INFO -  at 5.3s,\testimator rf's best error=0.1802,\tbest estimator rf's best error=0.1802\n",
            "[flaml.automl.logger: 04-21 09:37:54] {2219} INFO - iteration 10, current learner rf\n",
            "[flaml.automl.logger: 04-21 09:37:54] {2392} INFO -  at 6.0s,\testimator rf's best error=0.1802,\tbest estimator rf's best error=0.1802\n",
            "[flaml.automl.logger: 04-21 09:37:54] {2219} INFO - iteration 11, current learner rf\n",
            "[flaml.automl.logger: 04-21 09:37:56] {2392} INFO -  at 7.3s,\testimator rf's best error=0.1802,\tbest estimator rf's best error=0.1802\n",
            "[flaml.automl.logger: 04-21 09:37:56] {2219} INFO - iteration 12, current learner rf\n",
            "[flaml.automl.logger: 04-21 09:37:56] {2392} INFO -  at 7.8s,\testimator rf's best error=0.1802,\tbest estimator rf's best error=0.1802\n",
            "[flaml.automl.logger: 04-21 09:37:56] {2219} INFO - iteration 13, current learner rf\n",
            "[flaml.automl.logger: 04-21 09:37:58] {2392} INFO -  at 9.3s,\testimator rf's best error=0.1729,\tbest estimator rf's best error=0.1729\n",
            "[flaml.automl.logger: 04-21 09:37:58] {2219} INFO - iteration 14, current learner rf\n",
            "[flaml.automl.logger: 04-21 09:37:59] {2392} INFO -  at 10.2s,\testimator rf's best error=0.1729,\tbest estimator rf's best error=0.1729\n",
            "[flaml.automl.logger: 04-21 09:37:59] {2219} INFO - iteration 15, current learner rf\n",
            "[flaml.automl.logger: 04-21 09:38:02] {2392} INFO -  at 13.3s,\testimator rf's best error=0.1686,\tbest estimator rf's best error=0.1686\n",
            "[flaml.automl.logger: 04-21 09:38:02] {2219} INFO - iteration 16, current learner rf\n",
            "[flaml.automl.logger: 04-21 09:38:04] {2392} INFO -  at 15.3s,\testimator rf's best error=0.1686,\tbest estimator rf's best error=0.1686\n",
            "[flaml.automl.logger: 04-21 09:38:04] {2219} INFO - iteration 17, current learner rf\n",
            "[flaml.automl.logger: 04-21 09:38:07] {2392} INFO -  at 18.7s,\testimator rf's best error=0.1686,\tbest estimator rf's best error=0.1686\n",
            "[flaml.automl.logger: 04-21 09:38:10] {2628} INFO - retrain rf for 3.2s\n",
            "[flaml.automl.logger: 04-21 09:38:10] {2631} INFO - retrained model: RandomForestRegressor(max_features=0.6080343187702215, max_leaf_nodes=5405,\n",
            "                      n_estimators=55, n_jobs=-1, random_state=12032022)\n",
            "[flaml.automl.logger: 04-21 09:38:10] {1931} INFO - fit succeeded\n",
            "[flaml.automl.logger: 04-21 09:38:10] {1932} INFO - Time taken to find the best model: 13.282187223434448\n"
          ]
        }
      ]
    },
    {
      "cell_type": "code",
      "source": [
        "print(\"best model:\")\n",
        "print(automl.model.estimator)\n",
        "# evaluate the model performance\n",
        "r2_score(y_true = y_test, y_pred = automl.predict(X_test))"
      ],
      "metadata": {
        "colab": {
          "base_uri": "https://localhost:8080/"
        },
        "id": "-WbmPscTtayt",
        "outputId": "d8603796-abd1-41d7-d639-59a371588713"
      },
      "execution_count": 7,
      "outputs": [
        {
          "output_type": "stream",
          "name": "stdout",
          "text": [
            "best model:\n",
            "RandomForestRegressor(max_features=0.6080343187702215, max_leaf_nodes=5405,\n",
            "                      n_estimators=55, n_jobs=-1, random_state=12032022)\n"
          ]
        },
        {
          "output_type": "execute_result",
          "data": {
            "text/plain": [
              "0.8103421398645516"
            ]
          },
          "metadata": {},
          "execution_count": 7
        }
      ]
    }
  ]
}