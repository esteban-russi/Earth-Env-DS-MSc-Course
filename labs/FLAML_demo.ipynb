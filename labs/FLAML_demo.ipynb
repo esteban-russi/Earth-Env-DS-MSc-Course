{
  "nbformat": 4,
  "nbformat_minor": 0,
  "metadata": {
    "colab": {
      "provenance": []
    },
    "kernelspec": {
      "name": "python3",
      "display_name": "Python 3"
    },
    "language_info": {
      "name": "python"
    }
  },
  "cells": [
    {
      "cell_type": "markdown",
      "source": [
        "## Step 0: Install FLAML"
      ],
      "metadata": {
        "id": "Fu74NfnMbr__"
      }
    },
    {
      "cell_type": "code",
      "execution_count": 1,
      "metadata": {
        "colab": {
          "base_uri": "https://localhost:8080/"
        },
        "id": "xKct9r_bfwnJ",
        "outputId": "476877b4-ec9d-477a-ac91-fcede9857e0a"
      },
      "outputs": [
        {
          "output_type": "stream",
          "name": "stdout",
          "text": [
            "Collecting flaml\n",
            "  Downloading FLAML-2.1.2-py3-none-any.whl (296 kB)\n",
            "\u001b[?25l     \u001b[90m━━━━━━━━━━━━━━━━━━━━━━━━━━━━━━━━━━━━━━━━\u001b[0m \u001b[32m0.0/296.7 kB\u001b[0m \u001b[31m?\u001b[0m eta \u001b[36m-:--:--\u001b[0m\r\u001b[2K     \u001b[91m━━━━━━━━━━━━━━━\u001b[0m\u001b[90m╺\u001b[0m\u001b[90m━━━━━━━━━━━━━━━━━━━━━━━━\u001b[0m \u001b[32m112.6/296.7 kB\u001b[0m \u001b[31m3.1 MB/s\u001b[0m eta \u001b[36m0:00:01\u001b[0m\r\u001b[2K     \u001b[90m━━━━━━━━━━━━━━━━━━━━━━━━━━━━━━━━━━━━━━━━\u001b[0m \u001b[32m296.7/296.7 kB\u001b[0m \u001b[31m4.1 MB/s\u001b[0m eta \u001b[36m0:00:00\u001b[0m\n",
            "\u001b[?25hRequirement already satisfied: NumPy>=1.17 in /usr/local/lib/python3.10/dist-packages (from flaml) (1.25.2)\n",
            "Installing collected packages: flaml\n",
            "Successfully installed flaml-2.1.2\n"
          ]
        }
      ],
      "source": [
        "!pip install flaml\n",
        "from flaml import AutoML"
      ]
    },
    {
      "cell_type": "code",
      "source": [
        "from sklearn.metrics import r2_score\n",
        "from sklearn.model_selection import train_test_split\n",
        "from sklearn.datasets import fetch_california_housing\n",
        "\n",
        "X, y = fetch_california_housing(return_X_y=True)\n",
        "X_train, X_test, y_train, y_test = train_test_split(X, y, test_size=0.2, random_state=42)"
      ],
      "metadata": {
        "id": "PVHp3NQsf4Je"
      },
      "execution_count": 2,
      "outputs": []
    },
    {
      "cell_type": "markdown",
      "source": [
        "## Step 1: FLAML (AutoML)"
      ],
      "metadata": {
        "id": "E-hzmOrLYxFJ"
      }
    },
    {
      "cell_type": "code",
      "source": [
        "# Initialize an AutoML instance\n",
        "automl = AutoML()\n",
        "# Specify automl goal and constraint\n",
        "automl_settings = {\n",
        "    \"time_budget\": 20,  # in seconds\n",
        "    \"metric\": \"r2\",\n",
        "    \"task\": \"regression\"\n",
        "}\n",
        "\n",
        "automl.fit(X_train=X_train, y_train=y_train, **automl_settings)"
      ],
      "metadata": {
        "colab": {
          "base_uri": "https://localhost:8080/"
        },
        "id": "fm9IvoBbSy_5",
        "outputId": "f475f33f-ac42-4bff-ced8-5b0a45cfc07c"
      },
      "execution_count": 3,
      "outputs": [
        {
          "output_type": "stream",
          "name": "stdout",
          "text": [
            "[flaml.automl.logger: 04-20 21:44:33] {1680} INFO - task = regression\n",
            "[flaml.automl.logger: 04-20 21:44:33] {1691} INFO - Evaluation method: holdout\n",
            "[flaml.automl.logger: 04-20 21:44:33] {1789} INFO - Minimizing error metric: 1-r2\n",
            "[flaml.automl.logger: 04-20 21:44:33] {1901} INFO - List of ML learners in AutoML Run: ['lgbm', 'rf', 'xgboost', 'extra_tree', 'xgb_limitdepth']\n",
            "[flaml.automl.logger: 04-20 21:44:33] {2219} INFO - iteration 0, current learner lgbm\n",
            "[flaml.automl.logger: 04-20 21:44:33] {2345} INFO - Estimated sufficient time budget=786s. Estimated necessary time budget=6s.\n",
            "[flaml.automl.logger: 04-20 21:44:33] {2392} INFO -  at 0.1s,\testimator lgbm's best error=0.7234,\tbest estimator lgbm's best error=0.7234\n",
            "[flaml.automl.logger: 04-20 21:44:33] {2219} INFO - iteration 1, current learner lgbm\n",
            "[flaml.automl.logger: 04-20 21:44:34] {2392} INFO -  at 0.2s,\testimator lgbm's best error=0.7234,\tbest estimator lgbm's best error=0.7234\n",
            "[flaml.automl.logger: 04-20 21:44:34] {2219} INFO - iteration 2, current learner lgbm\n",
            "[flaml.automl.logger: 04-20 21:44:34] {2392} INFO -  at 0.2s,\testimator lgbm's best error=0.5133,\tbest estimator lgbm's best error=0.5133\n",
            "[flaml.automl.logger: 04-20 21:44:34] {2219} INFO - iteration 3, current learner lgbm\n",
            "[flaml.automl.logger: 04-20 21:44:34] {2392} INFO -  at 0.2s,\testimator lgbm's best error=0.2551,\tbest estimator lgbm's best error=0.2551\n",
            "[flaml.automl.logger: 04-20 21:44:34] {2219} INFO - iteration 4, current learner lgbm\n",
            "[flaml.automl.logger: 04-20 21:44:34] {2392} INFO -  at 0.3s,\testimator lgbm's best error=0.2551,\tbest estimator lgbm's best error=0.2551\n",
            "[flaml.automl.logger: 04-20 21:44:34] {2219} INFO - iteration 5, current learner lgbm\n",
            "[flaml.automl.logger: 04-20 21:44:34] {2392} INFO -  at 0.3s,\testimator lgbm's best error=0.2469,\tbest estimator lgbm's best error=0.2469\n",
            "[flaml.automl.logger: 04-20 21:44:34] {2219} INFO - iteration 6, current learner lgbm\n",
            "[flaml.automl.logger: 04-20 21:44:34] {2392} INFO -  at 0.4s,\testimator lgbm's best error=0.2469,\tbest estimator lgbm's best error=0.2469\n",
            "[flaml.automl.logger: 04-20 21:44:34] {2219} INFO - iteration 7, current learner lgbm\n",
            "[flaml.automl.logger: 04-20 21:44:34] {2392} INFO -  at 0.4s,\testimator lgbm's best error=0.2469,\tbest estimator lgbm's best error=0.2469\n",
            "[flaml.automl.logger: 04-20 21:44:34] {2219} INFO - iteration 8, current learner lgbm\n",
            "[flaml.automl.logger: 04-20 21:44:34] {2392} INFO -  at 0.5s,\testimator lgbm's best error=0.2082,\tbest estimator lgbm's best error=0.2082\n",
            "[flaml.automl.logger: 04-20 21:44:34] {2219} INFO - iteration 9, current learner xgboost\n",
            "[flaml.automl.logger: 04-20 21:44:34] {2392} INFO -  at 0.6s,\testimator xgboost's best error=0.7205,\tbest estimator lgbm's best error=0.2082\n",
            "[flaml.automl.logger: 04-20 21:44:34] {2219} INFO - iteration 10, current learner lgbm\n",
            "[flaml.automl.logger: 04-20 21:44:34] {2392} INFO -  at 0.6s,\testimator lgbm's best error=0.2082,\tbest estimator lgbm's best error=0.2082\n",
            "[flaml.automl.logger: 04-20 21:44:34] {2219} INFO - iteration 11, current learner xgboost\n",
            "[flaml.automl.logger: 04-20 21:44:34] {2392} INFO -  at 0.7s,\testimator xgboost's best error=0.7205,\tbest estimator lgbm's best error=0.2082\n",
            "[flaml.automl.logger: 04-20 21:44:34] {2219} INFO - iteration 12, current learner lgbm\n",
            "[flaml.automl.logger: 04-20 21:44:35] {2392} INFO -  at 1.3s,\testimator lgbm's best error=0.1515,\tbest estimator lgbm's best error=0.1515\n",
            "[flaml.automl.logger: 04-20 21:44:35] {2219} INFO - iteration 13, current learner extra_tree\n",
            "[flaml.automl.logger: 04-20 21:44:35] {2392} INFO -  at 1.4s,\testimator extra_tree's best error=0.5751,\tbest estimator lgbm's best error=0.1515\n",
            "[flaml.automl.logger: 04-20 21:44:35] {2219} INFO - iteration 14, current learner extra_tree\n",
            "[flaml.automl.logger: 04-20 21:44:35] {2392} INFO -  at 1.4s,\testimator extra_tree's best error=0.3925,\tbest estimator lgbm's best error=0.1515\n",
            "[flaml.automl.logger: 04-20 21:44:35] {2219} INFO - iteration 15, current learner rf\n",
            "[flaml.automl.logger: 04-20 21:44:35] {2392} INFO -  at 1.6s,\testimator rf's best error=0.5011,\tbest estimator lgbm's best error=0.1515\n",
            "[flaml.automl.logger: 04-20 21:44:35] {2219} INFO - iteration 16, current learner rf\n",
            "[flaml.automl.logger: 04-20 21:44:35] {2392} INFO -  at 1.8s,\testimator rf's best error=0.3691,\tbest estimator lgbm's best error=0.1515\n",
            "[flaml.automl.logger: 04-20 21:44:35] {2219} INFO - iteration 17, current learner extra_tree\n",
            "[flaml.automl.logger: 04-20 21:44:35] {2392} INFO -  at 1.9s,\testimator extra_tree's best error=0.3925,\tbest estimator lgbm's best error=0.1515\n",
            "[flaml.automl.logger: 04-20 21:44:35] {2219} INFO - iteration 18, current learner lgbm\n",
            "[flaml.automl.logger: 04-20 21:44:36] {2392} INFO -  at 2.4s,\testimator lgbm's best error=0.1515,\tbest estimator lgbm's best error=0.1515\n",
            "[flaml.automl.logger: 04-20 21:44:36] {2219} INFO - iteration 19, current learner xgboost\n",
            "[flaml.automl.logger: 04-20 21:44:36] {2392} INFO -  at 2.5s,\testimator xgboost's best error=0.5195,\tbest estimator lgbm's best error=0.1515\n",
            "[flaml.automl.logger: 04-20 21:44:36] {2219} INFO - iteration 20, current learner xgboost\n",
            "[flaml.automl.logger: 04-20 21:44:36] {2392} INFO -  at 2.7s,\testimator xgboost's best error=0.3280,\tbest estimator lgbm's best error=0.1515\n",
            "[flaml.automl.logger: 04-20 21:44:36] {2219} INFO - iteration 21, current learner xgboost\n",
            "[flaml.automl.logger: 04-20 21:44:36] {2392} INFO -  at 2.8s,\testimator xgboost's best error=0.3280,\tbest estimator lgbm's best error=0.1515\n",
            "[flaml.automl.logger: 04-20 21:44:36] {2219} INFO - iteration 22, current learner lgbm\n",
            "[flaml.automl.logger: 04-20 21:44:36] {2392} INFO -  at 3.0s,\testimator lgbm's best error=0.1515,\tbest estimator lgbm's best error=0.1515\n",
            "[flaml.automl.logger: 04-20 21:44:36] {2219} INFO - iteration 23, current learner rf\n",
            "[flaml.automl.logger: 04-20 21:44:36] {2392} INFO -  at 3.1s,\testimator rf's best error=0.3691,\tbest estimator lgbm's best error=0.1515\n",
            "[flaml.automl.logger: 04-20 21:44:36] {2219} INFO - iteration 24, current learner extra_tree\n",
            "[flaml.automl.logger: 04-20 21:44:37] {2392} INFO -  at 3.3s,\testimator extra_tree's best error=0.3483,\tbest estimator lgbm's best error=0.1515\n",
            "[flaml.automl.logger: 04-20 21:44:37] {2219} INFO - iteration 25, current learner extra_tree\n",
            "[flaml.automl.logger: 04-20 21:44:37] {2392} INFO -  at 3.6s,\testimator extra_tree's best error=0.2798,\tbest estimator lgbm's best error=0.1515\n",
            "[flaml.automl.logger: 04-20 21:44:37] {2219} INFO - iteration 26, current learner rf\n",
            "[flaml.automl.logger: 04-20 21:44:38] {2392} INFO -  at 4.3s,\testimator rf's best error=0.2703,\tbest estimator lgbm's best error=0.1515\n",
            "[flaml.automl.logger: 04-20 21:44:38] {2219} INFO - iteration 27, current learner xgboost\n",
            "[flaml.automl.logger: 04-20 21:44:38] {2392} INFO -  at 4.5s,\testimator xgboost's best error=0.3280,\tbest estimator lgbm's best error=0.1515\n",
            "[flaml.automl.logger: 04-20 21:44:38] {2219} INFO - iteration 28, current learner extra_tree\n",
            "[flaml.automl.logger: 04-20 21:44:38] {2392} INFO -  at 4.7s,\testimator extra_tree's best error=0.2798,\tbest estimator lgbm's best error=0.1515\n",
            "[flaml.automl.logger: 04-20 21:44:38] {2219} INFO - iteration 29, current learner extra_tree\n",
            "[flaml.automl.logger: 04-20 21:44:38] {2392} INFO -  at 5.0s,\testimator extra_tree's best error=0.2200,\tbest estimator lgbm's best error=0.1515\n",
            "[flaml.automl.logger: 04-20 21:44:38] {2219} INFO - iteration 30, current learner lgbm\n",
            "[flaml.automl.logger: 04-20 21:44:41] {2392} INFO -  at 7.4s,\testimator lgbm's best error=0.1515,\tbest estimator lgbm's best error=0.1515\n",
            "[flaml.automl.logger: 04-20 21:44:41] {2219} INFO - iteration 31, current learner lgbm\n",
            "[flaml.automl.logger: 04-20 21:44:46] {2392} INFO -  at 12.9s,\testimator lgbm's best error=0.1482,\tbest estimator lgbm's best error=0.1482\n",
            "[flaml.automl.logger: 04-20 21:44:46] {2219} INFO - iteration 32, current learner rf\n",
            "[flaml.automl.logger: 04-20 21:44:47] {2392} INFO -  at 13.8s,\testimator rf's best error=0.2236,\tbest estimator lgbm's best error=0.1482\n",
            "[flaml.automl.logger: 04-20 21:44:47] {2219} INFO - iteration 33, current learner extra_tree\n",
            "[flaml.automl.logger: 04-20 21:44:47] {2392} INFO -  at 14.1s,\testimator extra_tree's best error=0.2200,\tbest estimator lgbm's best error=0.1482\n",
            "[flaml.automl.logger: 04-20 21:44:47] {2219} INFO - iteration 34, current learner rf\n",
            "[flaml.automl.logger: 04-20 21:44:48] {2392} INFO -  at 15.0s,\testimator rf's best error=0.2236,\tbest estimator lgbm's best error=0.1482\n",
            "[flaml.automl.logger: 04-20 21:44:48] {2219} INFO - iteration 35, current learner xgboost\n",
            "[flaml.automl.logger: 04-20 21:44:49] {2392} INFO -  at 15.4s,\testimator xgboost's best error=0.2458,\tbest estimator lgbm's best error=0.1482\n",
            "[flaml.automl.logger: 04-20 21:44:49] {2219} INFO - iteration 36, current learner extra_tree\n",
            "[flaml.automl.logger: 04-20 21:44:49] {2392} INFO -  at 15.9s,\testimator extra_tree's best error=0.2116,\tbest estimator lgbm's best error=0.1482\n",
            "[flaml.automl.logger: 04-20 21:44:49] {2219} INFO - iteration 37, current learner xgboost\n",
            "[flaml.automl.logger: 04-20 21:44:51] {2392} INFO -  at 17.3s,\testimator xgboost's best error=0.2429,\tbest estimator lgbm's best error=0.1482\n",
            "[flaml.automl.logger: 04-20 21:44:51] {2219} INFO - iteration 38, current learner xgb_limitdepth\n",
            "[flaml.automl.logger: 04-20 21:44:52] {2392} INFO -  at 18.8s,\testimator xgb_limitdepth's best error=0.1927,\tbest estimator lgbm's best error=0.1482\n",
            "[flaml.automl.logger: 04-20 21:44:52] {2219} INFO - iteration 39, current learner extra_tree\n",
            "[flaml.automl.logger: 04-20 21:44:52] {2392} INFO -  at 19.1s,\testimator extra_tree's best error=0.2116,\tbest estimator lgbm's best error=0.1482\n",
            "[flaml.automl.logger: 04-20 21:44:52] {2219} INFO - iteration 40, current learner extra_tree\n",
            "[flaml.automl.logger: 04-20 21:44:53] {2392} INFO -  at 19.7s,\testimator extra_tree's best error=0.1947,\tbest estimator lgbm's best error=0.1482\n",
            "[flaml.automl.logger: 04-20 21:45:00] {2628} INFO - retrain lgbm for 6.9s\n",
            "[flaml.automl.logger: 04-20 21:45:00] {2631} INFO - retrained model: LGBMRegressor(colsample_bytree=0.5967846088487322,\n",
            "              learning_rate=0.09348689572544734, max_bin=127,\n",
            "              min_child_samples=4, n_estimators=1, n_jobs=-1, num_leaves=69,\n",
            "              reg_alpha=0.006958608037974516, reg_lambda=0.001895876878997586,\n",
            "              verbose=-1)\n",
            "[flaml.automl.logger: 04-20 21:45:00] {1931} INFO - fit succeeded\n",
            "[flaml.automl.logger: 04-20 21:45:00] {1932} INFO - Time taken to find the best model: 12.874162912368774\n"
          ]
        }
      ]
    },
    {
      "cell_type": "code",
      "source": [
        "print(\"best model:\")\n",
        "print(automl.model.estimator)\n",
        "# evaluate the model performance\n",
        "r2_score(y_true = y_test, y_pred = automl.predict(X_test))"
      ],
      "metadata": {
        "colab": {
          "base_uri": "https://localhost:8080/"
        },
        "id": "Cbi0ug2MTTiG",
        "outputId": "92270de5-59c0-4c4f-c6a4-518c6482c561"
      },
      "execution_count": 4,
      "outputs": [
        {
          "output_type": "stream",
          "name": "stdout",
          "text": [
            "best model:\n",
            "LGBMRegressor(colsample_bytree=0.5967846088487322,\n",
            "              learning_rate=0.09348689572544734, max_bin=127,\n",
            "              min_child_samples=4, n_estimators=1, n_jobs=-1, num_leaves=69,\n",
            "              reg_alpha=0.006958608037974516, reg_lambda=0.001895876878997586,\n",
            "              verbose=-1)\n"
          ]
        },
        {
          "output_type": "execute_result",
          "data": {
            "text/plain": [
              "0.840920034588206"
            ]
          },
          "metadata": {},
          "execution_count": 4
        }
      ]
    },
    {
      "cell_type": "markdown",
      "source": [
        "## Step 2: Random Forests"
      ],
      "metadata": {
        "id": "TSRtLe6UYtg9"
      }
    },
    {
      "cell_type": "code",
      "source": [
        "from sklearn.ensemble import RandomForestRegressor\n",
        "regr = RandomForestRegressor()\n",
        "regr.fit(X_train, y_train)\n",
        "r2_score(y_true = y_test, y_pred = regr.predict(X_test))"
      ],
      "metadata": {
        "colab": {
          "base_uri": "https://localhost:8080/"
        },
        "id": "mD5uHNejVBvk",
        "outputId": "66e0c728-3fad-4b80-ea29-1c1fcbc34ee2"
      },
      "execution_count": 5,
      "outputs": [
        {
          "output_type": "execute_result",
          "data": {
            "text/plain": [
              "0.8032544946756442"
            ]
          },
          "metadata": {},
          "execution_count": 5
        }
      ]
    }
  ]
}