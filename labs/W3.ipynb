{
 "cells": [
  {
   "cell_type": "markdown",
   "metadata": {},
   "source": [
    "# W3: Statistics, Matplotlib, Seaborn\n",
    "- Contributer: Dr. Zhonghua Zheng, Yuan Sun\n",
    "- Course Unit: Earth and Environmental Data Science (EART60702)\n",
    "- Last modified date: 04 February, 2024"
   ]
  },
  {
   "cell_type": "markdown",
   "metadata": {},
   "source": [
    "## Intended Learning Outcomes (ILOs)\n",
    "- Statistical Analysis: Gain a practical understanding of core statistical analysis methods to evaluate and interpret data.\n",
    "\n",
    "- Visualization Skills with Matplotlib and Seaborn: Learn to effectively create visual representations of data using the plotting capabilities of Matplotlib and seaborn."
   ]
  },
  {
   "cell_type": "markdown",
   "metadata": {},
   "source": [
    "## 1. Statistical Analysis (15 mins)\n",
    "**Scipy**\n",
    "- Statistical functions (scipy.stats): contains a large number of probability distributions, summary and frequency statistics, correlation functions and statistical tests, masked statistics, kernel density estimation, quasi-Monte Carlo functionality, and more: https://docs.scipy.org/doc/scipy/reference/stats.html"
   ]
  },
  {
   "cell_type": "code",
   "execution_count": null,
   "metadata": {},
   "outputs": [],
   "source": [
    "import numpy as np\n",
    "import pandas as pd\n",
    "from scipy import stats"
   ]
  },
  {
   "cell_type": "code",
   "execution_count": null,
   "metadata": {},
   "outputs": [],
   "source": [
    "# ref: https://docs.scipy.org/doc/scipy/reference/generated/scipy.stats.spearmanr.html#scipy.stats.spearmanr\n",
    "x = np.array([7.1, 7.1, 7.2, 8.3, 9.4, 10.5, 11.4])\n",
    "y = np.array([2.8, 2.9, 2.8, 2.6, 3.5, 4.6, 5.0])"
   ]
  },
  {
   "cell_type": "markdown",
   "metadata": {},
   "source": [
    "### 1.1 Pearson correlation coefficient\n",
    "\n",
    "For more information: https://en.wikipedia.org/wiki/Pearson_correlation_coefficient\n",
    "\n",
    "$$ r = \\frac{\\sum (x_i - \\bar{x})(y_i - \\bar{y})}{\\sqrt{\\sum (x_i - \\bar{x})^2 \\sum (y_i - \\bar{y})^2}} $$"
   ]
  },
  {
   "cell_type": "markdown",
   "metadata": {},
   "source": [
    "Q1: please use `scipy.stats` to calculate the pearson correlation coefficient\n",
    "- https://docs.scipy.org/doc/scipy/reference/generated/scipy.stats.pearsonr.html"
   ]
  },
  {
   "cell_type": "code",
   "execution_count": null,
   "metadata": {},
   "outputs": [],
   "source": []
  },
  {
   "cell_type": "markdown",
   "metadata": {},
   "source": [
    "Q2: please use `numpy` to calculate the pearson correlation coefficient by implementing the equations"
   ]
  },
  {
   "cell_type": "code",
   "execution_count": null,
   "metadata": {},
   "outputs": [],
   "source": [
    "mean_x = np.mean(x)\n",
    "mean_y = np.mean(y)\n",
    "\n",
    "numerator = \n",
    "denominator = \n",
    "pearson_r = numerator / denominator\n",
    "pearson_r"
   ]
  },
  {
   "cell_type": "markdown",
   "metadata": {},
   "source": [
    "Q3: please use `numpy` to calcuate the pearson correlation coefficient"
   ]
  },
  {
   "cell_type": "code",
   "execution_count": null,
   "metadata": {},
   "outputs": [],
   "source": []
  },
  {
   "cell_type": "markdown",
   "metadata": {},
   "source": [
    "Q4: please use `pandas` to calculate the pearson correlation coefficient"
   ]
  },
  {
   "cell_type": "code",
   "execution_count": null,
   "metadata": {},
   "outputs": [],
   "source": []
  },
  {
   "cell_type": "markdown",
   "metadata": {},
   "source": [
    "### 1.2 Spearman's rank correlation coefficient\n",
    "For more information: https://en.wikipedia.org/wiki/Spearman%27s_rank_correlation_coefficient"
   ]
  },
  {
   "cell_type": "markdown",
   "metadata": {},
   "source": [
    "Q1: please use `scipy.stats` to calculate the Spearman's rank correlation coefficient\n",
    "- https://docs.scipy.org/doc/scipy/reference/generated/scipy.stats.spearmanr.html"
   ]
  },
  {
   "cell_type": "code",
   "execution_count": null,
   "metadata": {},
   "outputs": [],
   "source": []
  },
  {
   "cell_type": "markdown",
   "metadata": {},
   "source": [
    "Q2: please calculate Spearman's rank correlation coefficient using a method other than scipy.stats"
   ]
  },
  {
   "cell_type": "code",
   "execution_count": null,
   "metadata": {},
   "outputs": [],
   "source": []
  },
  {
   "cell_type": "markdown",
   "metadata": {},
   "source": [
    "## 2. Matplotlib (15 mins)\n",
    "- Matplotlib is a comprehensive library for creating static, animated, and interactive visualizations in Python: https://matplotlib.org/stable/users/getting_started/\n",
    "- Matplotlib makes easy things easy and hard things possible."
   ]
  },
  {
   "cell_type": "code",
   "execution_count": null,
   "metadata": {},
   "outputs": [],
   "source": [
    "import matplotlib.pyplot as plt\n",
    "import numpy as np\n",
    "import pandas as pd"
   ]
  },
  {
   "cell_type": "markdown",
   "metadata": {},
   "source": [
    "### 2.1 draw line plot\n",
    "- plot(x, y)\n",
    "- attribute: color, linewidth, marker, linestyle, etc. search more: https://matplotlib.org/stable/gallery/lines_bars_and_markers/index.html"
   ]
  },
  {
   "cell_type": "code",
   "execution_count": null,
   "metadata": {},
   "outputs": [],
   "source": [
    "# a simple case\n",
    "x = np.linspace(0, 2 * np.pi, 200)\n",
    "y = np.sin(x)\n",
    "\n",
    "fig, ax = plt.subplots() # Create a figure and axis\n",
    "ax.plot(x, y) # Plot the sine function\n",
    "plt.show()"
   ]
  },
  {
   "cell_type": "code",
   "execution_count": null,
   "metadata": {},
   "outputs": [],
   "source": [
    "# customize parameters\n",
    "x = np.linspace(0, 2 * np.pi, 200)\n",
    "y1 = np.sin(x)\n",
    "y2 = np.cos(x)\n",
    "fig1, ax = plt.subplots() \n",
    "ax.plot(x, y1, color = 'red', linewidth = 0.5, linestyle = ':', label='sin(x)') # change line color, width, etc in multiple lines\n",
    "ax.plot(x, y2, color = 'green', linewidth = 0.75, linestyle = '--', label='cos(x)') \n",
    "ax.legend() # Add a legend\n",
    "plt.show()"
   ]
  },
  {
   "cell_type": "code",
   "execution_count": null,
   "metadata": {},
   "outputs": [],
   "source": [
    "# use a loop for a series of lines\n",
    "# prepare data and variables\n",
    "x = np.linspace(0, 2 * np.pi, 200)\n",
    "y = [100 * np.sin(x), 100 * np.cos(x), np.tan(x), -x]\n",
    "color = ['red', 'green', 'orange', 'blue']\n",
    "linewidth = [1, 0.3, 0.75, 1.2]\n",
    "linestyle = ['-', '--', ':', '-.'] \n",
    "marker = ['o', '*', 'D', '.']\n",
    "alpha = [0.9, 0.75, 1, 0.4]\n",
    "label = ['sin', 'cos', 'tan', 'nag']\n",
    "fontsize = [8, 10, 7]\n",
    "\n",
    "# create the figure \n",
    "fig2, ax = plt.subplots() \n",
    "ax.set_facecolor('white')\n",
    "for i in range(4):\n",
    "    ax.plot(x, y[i], color = color[i], linewidth = linewidth[i], linestyle = linestyle[i], \n",
    "            label= label[i], alpha = alpha[i], marker = marker[i], markersize=0.3) \n",
    "ax.legend(frameon=False) # Remove legend border\n",
    "ax.set_title('It is a example.') # add figure title\n",
    "ax.set_xlabel('X-axis', fontsize= fontsize[1], color = color[0])  # Adjust X-axis label font size\n",
    "ax.set_ylabel('Y-axis', fontsize= fontsize[1], color = color[1])  # Adjust Y-axis label font size\n",
    "ax.grid(True, linestyle=linestyle[1], linewidth = linewidth[1], alpha=alpha[2]) # add grid\n",
    "plt.show()"
   ]
  },
  {
   "cell_type": "markdown",
   "metadata": {},
   "source": [
    "### 2.2 customize figure style"
   ]
  },
  {
   "cell_type": "code",
   "execution_count": null,
   "metadata": {},
   "outputs": [],
   "source": [
    "# create the figure \n",
    "fig2, ax = plt.subplots(figsize=(10, 4)) # Specify width and height in inches\n",
    "for i in range(4):\n",
    "    ax.plot(x, y[i], color = color[i], linewidth = linewidth[i], linestyle = linestyle[i], label= label[i], alpha = alpha[i]) \n",
    "ax.legend(frameon=False) \n",
    "ax.set_title('It is a example.') \n",
    "ax.set_xlabel('X-axis', fontsize= fontsize[1], color = color[0])\n",
    "ax.set_ylabel('Y-axis', fontsize= fontsize[1], color = color[1]) \n",
    "ax.yaxis.grid(True, linestyle=linestyle[1], linewidth = linewidth[1], alpha=alpha[2]) # add y-axis grid\n",
    "ax.tick_params(axis='x', which='major', top=False, bottom=True, labelbottom=True, labelcolor='black', labelsize=8, pad=1, color = 'grey', width = 1, length = 4)\n",
    "ax.spines['left'].set_visible(False) # spines visibility\n",
    "ax.spines['top'].set_visible(False)\n",
    "ax.spines['right'].set_visible(False)\n",
    "#ax.set_facecolor('white')\n",
    "\n",
    "# Annotate the max value\n",
    "max_value_index = np.argmax(y[0])  # Assuming you want to mark the max value for the first line (sin(x))\n",
    "max_value_x = x[max_value_index]\n",
    "max_value_y = y[0][max_value_index]\n",
    "ax.annotate(f'Max Value: {max_value_y:.2f}', \n",
    "            xy=(max_value_x, max_value_y), \n",
    "            xytext=(max_value_x + 1, max_value_y), \n",
    "            color='red',\n",
    "            fontsize=8,\n",
    "            arrowprops=dict(facecolor='blue', arrowstyle='->'))\n",
    "\n",
    "plt.subplots_adjust(left=0.1, right=0.75, top=0.75, bottom=0.2) # adjust plot location\n",
    "plt.show()"
   ]
  },
  {
   "cell_type": "markdown",
   "metadata": {},
   "source": [
    "### 2.3 Questions"
   ]
  },
  {
   "cell_type": "markdown",
   "metadata": {},
   "source": [
    "Q1: Comment and uncoment every code line to see the figure changes."
   ]
  },
  {
   "cell_type": "markdown",
   "metadata": {},
   "source": [
    "Q2: Given a dataset of fruit weights and their sweetness levels, create a scatter plot to visualize the relationship between weight and sweetness. Here are the data points: \n",
    "- weights = [100, 150, 180, 200, 220]\n",
    "- sweetness = [30, 45, 50, 55, 60]. \n",
    "\n",
    "Annotate each point with the corresponding fruit name: `[\"Apple\", \"Banana\", \"Grape\", \"Orange\", \"Watermelon\"]`. Label the axes appropriately."
   ]
  },
  {
   "cell_type": "code",
   "execution_count": null,
   "metadata": {},
   "outputs": [],
   "source": []
  },
  {
   "cell_type": "markdown",
   "metadata": {},
   "source": [
    "Q3: Try to follow the style of a figure style in IPCC report: https://www.ipcc.ch/report/ar6/syr/figures/figure-3-6\n",
    "- color\n",
    "- size of lable, font\n",
    "- location of title, text\n",
    "- style of axis and ticks"
   ]
  },
  {
   "cell_type": "markdown",
   "metadata": {},
   "source": [
    "## 3. Seaborn (15 mins)\n",
    "- Seaborn is a library for making statistical graphics in Python: https://seaborn.pydata.org/tutorial/introduction.html\n",
    "- It builds on top of matplotlib and integrates closely with pandas data structures."
   ]
  },
  {
   "cell_type": "markdown",
   "metadata": {},
   "source": [
    "### 3.0 If you haven't installed seaborn: "
   ]
  },
  {
   "cell_type": "code",
   "execution_count": null,
   "metadata": {},
   "outputs": [],
   "source": [
    "!conda install -c conda-forge seaborn -y"
   ]
  },
  {
   "cell_type": "code",
   "execution_count": null,
   "metadata": {},
   "outputs": [],
   "source": [
    "import seaborn as sns"
   ]
  },
  {
   "cell_type": "markdown",
   "metadata": {},
   "source": [
    "### 3.1 seaborn fundamentals"
   ]
  },
  {
   "cell_type": "code",
   "execution_count": null,
   "metadata": {},
   "outputs": [],
   "source": [
    "# Apply the default theme\n",
    "sns.set_theme()\n",
    "\n",
    "# Load an example dataset\n",
    "tips = sns.load_dataset(\"tips\")\n",
    "tips"
   ]
  },
  {
   "cell_type": "code",
   "execution_count": null,
   "metadata": {},
   "outputs": [],
   "source": [
    "# Create a visualization\n",
    "sns.relplot(\n",
    "    data=tips,\n",
    "    x=\"total_bill\", y=\"tip\", col=\"time\",\n",
    "    hue=\"smoker\", style=\"smoker\", size=\"size\",\n",
    ")"
   ]
  },
  {
   "cell_type": "code",
   "execution_count": null,
   "metadata": {},
   "outputs": [],
   "source": [
    "# Define your custom color palette, markers and other attribute\n",
    "custom_palette = {\"Yes\": \"green\", \"No\": \"red\"}\n",
    "custom_markers = {\"Yes\": \"D\", \"No\": \"X\"}\n",
    "sns.set(style=\"whitegrid\", rc={\"grid.linestyle\": \"--\", \"grid.color\": \"gray\", \"grid.alpha\": 0.3})\n",
    "g = sns.relplot(\n",
    "    data=tips,\n",
    "    x=\"total_bill\", y=\"tip\", col=\"time\",\n",
    "    hue=\"smoker\", style=\"smoker\", size=\"size\",\n",
    "    palette=custom_palette,  # Set the custom color palette\n",
    "    markers=custom_markers # Set the custom marker styles\n",
    ")\n",
    "g.fig.set_facecolor(\"white\")\n",
    "plt.show()"
   ]
  },
  {
   "cell_type": "markdown",
   "metadata": {},
   "source": [
    "### 3.2 Question \n",
    "\n",
    "Use Seaborn to create a pairplot to analyze the relationships between multiple variables in the `Iris` dataset. The `Iris` dataset contains measurements for iris flowers of three different species, including sepal length, sepal width, petal length, and petal width. Your objectives are:\n",
    "\n",
    "- Load the Iris dataset directly from Seaborn.\n",
    "- Create a pairplot to visualize the pairwise relationships between the variables.\n",
    "- Use different colors to distinguish between species.\n",
    "- Add a title to the pairplot (Note: You might need to use Matplotlib functions for this, as Seaborn's pairplot does not have a direct way to add a title)."
   ]
  },
  {
   "cell_type": "code",
   "execution_count": null,
   "metadata": {},
   "outputs": [],
   "source": [
    "# Load the Iris dataset\n",
    "iris = sns.load_dataset('iris')"
   ]
  },
  {
   "cell_type": "markdown",
   "metadata": {},
   "source": [
    "## Project 1"
   ]
  },
  {
   "cell_type": "markdown",
   "metadata": {},
   "source": [
    "Please fork the repo (https://github.com/m-edal/Earth-Env-DS-MSc-Course/tree/main), and continue to work on your project"
   ]
  }
 ],
 "metadata": {
  "kernelspec": {
   "display_name": "Python 3 (ipykernel)",
   "language": "python",
   "name": "python3"
  },
  "language_info": {
   "codemirror_mode": {
    "name": "ipython",
    "version": 3
   },
   "file_extension": ".py",
   "mimetype": "text/x-python",
   "name": "python",
   "nbconvert_exporter": "python",
   "pygments_lexer": "ipython3",
   "version": "3.8.13"
  }
 },
 "nbformat": 4,
 "nbformat_minor": 2
}
